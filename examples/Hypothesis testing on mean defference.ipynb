{
 "cells": [
  {
   "cell_type": "code",
   "execution_count": 1,
   "metadata": {},
   "outputs": [],
   "source": [
    "import numpy\n",
    "import seaborn as sns\n",
    "from bootstrapper import Bootstrapper"
   ]
  },
  {
   "cell_type": "markdown",
   "metadata": {},
   "source": [
    "## English description\n",
    "To conduct a hypothesis testing, you have to generate bootstrap samples that follows the null hypothesis distribution.\n",
    "In this case it's $H_0 : \\mu_x = \\mu_y$.\n",
    "As bootstrap method is non-parametric, you have to generate it by using the empirical distribution.\n",
    "We are only interested in the mean difference this time, modify the two samples so that they have the equal mean.\n",
    "This mean is called 'pooled mean' and calculated as $\\overline{z} = \\frac{n\\overline{x} + m\\overline{y}}{n + m}$.\n",
    "You can draw bootstrap samples from null hypothesis distribution by converting the two samples as\n",
    "$$ x^+ = x - \\overline{x} + \\overline{z} $$\n",
    "$$ y^+ = y - \\overline{y} + \\overline{z} $$\n",
    "\n",
    "## 日本語での説明\n",
    "仮説検定を行うためには、帰無仮説に従うブートストラップ・サンプリングを生成する必要があります。\n",
    "この場合、帰無仮説は$H_0: \\mu_x = \\mu_y$です。\n",
    "ブートスラップ法はノンパラメトリックなので、経験分布のみから帰無仮説に従うサンプルを生成しなければなりません。\n",
    "今興味があるのは平均の差異だけですから、2つのサンプルの平均がある同じ値$\\overline{z}$であるという条件を満たすサンプルを生成します。\n",
    "この平均$\\overline{z}$は「プールされた平均」と呼ばれ$\\overline{z} = \\frac{n\\overline{x} + m\\overline{y}}{n + m}$と定義されます。\n",
    "これは$x$と$y$の2つのサンプルを結合したサンプルの平均と等しくなります。\n",
    "標本を次のように変換し、帰無仮説を満たす母集団からの標本抽出を行います。\n",
    "$$ x^+ = x - \\overline{x} + \\overline{z} $$\n",
    "$$ y^+ = y - \\overline{y} + \\overline{z} $$"
   ]
  },
  {
   "cell_type": "code",
   "execution_count": 3,
   "metadata": {},
   "outputs": [
    {
     "name": "stdout",
     "output_type": "stream",
     "text": [
      "mean(x) = 0.021607836437292107\n",
      "mean(y) = 0.012193816556083367\n",
      "T(x, y) = 2.2993627384276847\n",
      "p-value = 0.012\n"
     ]
    }
   ],
   "source": [
    "x = numpy.random.power(0.02, 1_000)\n",
    "y = numpy.random.power(0.01, 1_000)\n",
    "print('mean(x) = {}\\nmean(y) = {}'.format(x.mean(), y.mean())) # x should have larger mean\n",
    "\n",
    "def t_stat(s1, s2):\n",
    "    mean1, mean2 = s1.mean(), s2.mean()\n",
    "    var1, var2 = numpy.var(s1), numpy.var(s2)\n",
    "    n1, n2 = s1.shape[0], s2.shape[0]\n",
    "    return (mean1 - mean2) / numpy.sqrt(var1 / (n1 - 1) + var2 / (n2 - 1))\n",
    "\n",
    "t_stat_sample = t_stat(x, y)\n",
    "print('T(x, y) = {}'.format(t_stat_sample))\n",
    "\n",
    "bs = Bootstrapper(bootstrap_count=1_000)\n",
    "pooled_mean = numpy.concatenate([x, y]).mean()\n",
    "xplus = numpy.random.choice(x - x.mean() + pooled_mean, x.shape, replace=True)\n",
    "yplus = numpy.random.choice(y - y.mean() + pooled_mean, y.shape, replace=True)\n",
    "t_stat_boot = bs.run(t_stat, xplus, yplus)\n",
    "pvalue = (t_stat_boot >= t_stat_sample).sum() / len(t_stat_boot)\n",
    "print('p-value = {}'.format(pvalue))"
   ]
  },
  {
   "cell_type": "code",
   "execution_count": 4,
   "metadata": {},
   "outputs": [
    {
     "data": {
      "image/png": "[encoded data removed]",
      "text/plain": [
       "<Figure size 432x288 with 1 Axes>"
      ]
     },
     "metadata": {},
     "output_type": "display_data"
    }
   ],
   "source": [
    "sns.set()\n",
    "ax = sns.distplot(t_stat_boot, kde=True)\n",
    "ax.axvline(x=t_stat_sample, color='red');"
   ]
  }
 ],
 "metadata": {
  "kernelspec": {
   "display_name": "Python 3",
   "language": "python",
   "name": "python3"
  },
  "language_info": {
   "codemirror_mode": {
    "name": "ipython",
    "version": 3
   },
   "file_extension": ".py",
   "mimetype": "text/x-python",
   "name": "python",
   "nbconvert_exporter": "python",
   "pygments_lexer": "ipython3",
   "version": "3.7.6"
  }
 },
 "nbformat": 4,
 "nbformat_minor": 2
}
